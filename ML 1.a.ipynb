{
 "cells": [
  {
   "cell_type": "code",
   "execution_count": 3,
   "id": "646902ae",
   "metadata": {},
   "outputs": [
    {
     "ename": "FileNotFoundError",
     "evalue": "[Errno 2] No such file or directory: './dataset/1a-training.txt'",
     "output_type": "error",
     "traceback": [
      "\u001b[0;31m---------------------------------------------------------------------------\u001b[0m",
      "\u001b[0;31mFileNotFoundError\u001b[0m                         Traceback (most recent call last)",
      "Cell \u001b[0;32mIn [3], line 26\u001b[0m\n\u001b[1;32m     23\u001b[0m test_data \u001b[38;5;241m=\u001b[39m \u001b[38;5;124m'\u001b[39m\u001b[38;5;124m./dataset/1a-test.txt\u001b[39m\u001b[38;5;124m'\u001b[39m                \u001b[38;5;66;03m#linking the data_set\u001b[39;00m\n\u001b[1;32m     24\u001b[0m large_120_data \u001b[38;5;241m=\u001b[39m \u001b[38;5;124m'\u001b[39m\u001b[38;5;124m./dataset/1c-data.txt\u001b[39m\u001b[38;5;124m'\u001b[39m           \u001b[38;5;66;03m#linking the data_set\u001b[39;00m\n\u001b[0;32m---> 26\u001b[0m train_np \u001b[38;5;241m=\u001b[39m readFile(training_data)\n\u001b[1;32m     27\u001b[0m \u001b[38;5;28mprint\u001b[39m(train_np)\n\u001b[1;32m     28\u001b[0m test_np \u001b[38;5;241m=\u001b[39m readFile(test_data)\n",
      "Cell \u001b[0;32mIn [3], line 18\u001b[0m, in \u001b[0;36mreadFile\u001b[0;34m(dataset_path)\u001b[0m\n\u001b[1;32m     17\u001b[0m \u001b[38;5;28;01mdef\u001b[39;00m \u001b[38;5;21mreadFile\u001b[39m(dataset_path):\n\u001b[0;32m---> 18\u001b[0m     input_data \u001b[38;5;241m=\u001b[39m \u001b[43mfetch_data\u001b[49m\u001b[43m(\u001b[49m\u001b[43mdataset_path\u001b[49m\u001b[43m)\u001b[49m\n\u001b[1;32m     19\u001b[0m     input_np \u001b[38;5;241m=\u001b[39m np\u001b[38;5;241m.\u001b[39marray(input_data)\n\u001b[1;32m     20\u001b[0m     \u001b[38;5;28;01mreturn\u001b[39;00m input_np\n",
      "Cell \u001b[0;32mIn [3], line 10\u001b[0m, in \u001b[0;36mfetch_data\u001b[0;34m(filename)\u001b[0m\n\u001b[1;32m      9\u001b[0m \u001b[38;5;28;01mdef\u001b[39;00m \u001b[38;5;21mfetch_data\u001b[39m(filename):\n\u001b[0;32m---> 10\u001b[0m     \u001b[38;5;28;01mwith\u001b[39;00m \u001b[38;5;28;43mopen\u001b[39;49m\u001b[43m(\u001b[49m\u001b[43mfilename\u001b[49m\u001b[43m,\u001b[49m\u001b[43m \u001b[49m\u001b[38;5;124;43m'\u001b[39;49m\u001b[38;5;124;43mr\u001b[39;49m\u001b[38;5;124;43m'\u001b[39;49m\u001b[43m)\u001b[49m \u001b[38;5;28;01mas\u001b[39;00m f:\n\u001b[1;32m     11\u001b[0m         input_data \u001b[38;5;241m=\u001b[39m f\u001b[38;5;241m.\u001b[39mreadlines()\n\u001b[1;32m     12\u001b[0m         clean_input \u001b[38;5;241m=\u001b[39m \u001b[38;5;28mlist\u001b[39m(\u001b[38;5;28mmap\u001b[39m(clean_data, input_data))\n",
      "\u001b[0;31mFileNotFoundError\u001b[0m: [Errno 2] No such file or directory: './dataset/1a-training.txt'"
     ]
    }
   ],
   "source": [
    "import numpy as np\n",
    "import math                 #importing math lib\n",
    "from math import sqrt       #importing square root function from math lib\n",
    " \n",
    "\n",
    "def clean_data(line):\n",
    "    return line.replace('(', '').replace(')', '').replace(' ', '').strip().split(',')\n",
    "\n",
    "def fetch_data(filename):\n",
    "    with open(filename, 'r') as f:\n",
    "        input_data = f.readlines()\n",
    "        clean_input = list(map(clean_data, input_data))\n",
    "        f.close()\n",
    "    return clean_input\n",
    "\n",
    "\n",
    "def readFile(dataset_path):\n",
    "    input_data = fetch_data(dataset_path)\n",
    "    input_np = np.array(input_data)\n",
    "    return input_np\n",
    "\n",
    "training_data = './dataset/1a-training.txt'         #linking the data_set\n",
    "test_data = './dataset/1a-test.txt'                #linking the data_set\n",
    "large_120_data = './dataset/1c-data.txt'           #linking the data_set\n",
    "\n",
    "train_np = readFile(training_data)\n",
    "print(train_np)\n",
    "test_np = readFile(test_data)\n",
    "print(test_np)\n",
    "large_np = readFile(large_120_data)"
   ]
  },
  {
   "cell_type": "code",
   "execution_count": 2,
   "id": "fb870ad6",
   "metadata": {},
   "outputs": [
    {
     "name": "stdout",
     "output_type": "stream",
     "text": [
      "l : value  1\n",
      "W\n",
      "W\n",
      "W\n",
      "W\n",
      "l : value  3\n",
      "W\n",
      "M\n",
      "W\n",
      "W\n",
      "l : value  7\n",
      "W\n",
      "M\n",
      "W\n",
      "W\n"
     ]
    }
   ],
   "source": [
    "#by using cartesian \n",
    "def check(a):                #defining check\n",
    "    vamsi = {'W':0,'M':0 }\n",
    "    for GVK in a:              #for the gvk in a\n",
    "        if GVK=='W':           #if gvk is women\n",
    "            vamsi['W'] += 1      #increasing count of women\n",
    "        if GVK=='M':            #if gvk is men\n",
    "            vamsi['M'] += 1     #increasing count of men\n",
    "    return vamsi              #returning vamsi\n",
    "\n",
    "given = [1,3,7]\n",
    "for l in given:\n",
    "    print(\"l : value \", l)\n",
    "    for wintest in test_np:           #for wintest in test_np this loop executes\n",
    "        length = []                                  \n",
    "        for railu in  train_np:\n",
    "            q = np.array( [float(a) for a in railu[:3]])\n",
    "            w = np.array( [float(a) for a in wintest[:3]])\n",
    "            e = sqrt(np.sum( (q-w)**2 ))       #calculating square root function of sum and storing in e\n",
    "            length.append(e)              #appending e and calculating length of e\n",
    "        \n",
    "        closest = np.argsort(length)         #argsorting the length and storing to closet         \n",
    "                                                \n",
    "        closey = [ train_np[a][3] for a in closest[:l]]\n",
    "        vamsi = check(closey)\n",
    "        if vamsi['W']<vamsi['M']:            #comparing women and men\n",
    "            print('M')          #printing men if men is greater\n",
    "        else:\n",
    "            print('W')           #else printing women"
   ]
  },
  {
   "cell_type": "code",
   "execution_count": null,
   "id": "8c6ca7a6",
   "metadata": {},
   "outputs": [],
   "source": [
    "#22222"
   ]
  }
 ],
 "metadata": {
  "kernelspec": {
   "display_name": "Python 3 (ipykernel)",
   "language": "python",
   "name": "python3"
  },
  "language_info": {
   "codemirror_mode": {
    "name": "ipython",
    "version": 3
   },
   "file_extension": ".py",
   "mimetype": "text/x-python",
   "name": "python",
   "nbconvert_exporter": "python",
   "pygments_lexer": "ipython3",
   "version": "3.10.7"
  }
 },
 "nbformat": 4,
 "nbformat_minor": 5
}
