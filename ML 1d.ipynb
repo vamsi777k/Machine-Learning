{
 "cells": [
  {
   "cell_type": "code",
   "execution_count": 1,
   "id": "e07ca36b",
   "metadata": {},
   "outputs": [
    {
     "name": "stdout",
     "output_type": "stream",
     "text": [
      "[['1.6530190426733' '72.871146648479' '24' 'W']\n",
      " ['1.6471384909498' '72.612785314988' '34' 'W']\n",
      " ['1.6472055785348' '73.53968351051' '33' 'M']\n",
      " ['1.7323008914951' '76.067870338779' '30' 'M']\n",
      " ['1.6750702657911' '81.05582111533' '30' 'M']\n",
      " ['1.5780970716644' '64.926084680188' '30' 'W']\n",
      " ['1.6587629355524' '69.38092449041' '30' 'M']\n",
      " ['1.6763295980234' '77.062295990149' '31' 'M']\n",
      " ['1.7187224085504' '62.112923317057' '37' 'W']\n",
      " ['1.5202218226439' '66.151444019603' '27' 'W']\n",
      " ['1.5552689261884' '66.076386143769' '31' 'W']\n",
      " ['1.6969333189258' '77.45386244568' '34' 'M']\n",
      " ['1.6887980792886' '76.489640732464' '37' 'M']\n",
      " ['1.5213552893624' '63.952944947832' '35' 'W']]\n",
      "[['1.62065758929' '59.376557437583' '32']\n",
      " ['1.7793983848363' '72.071775670801' '36']\n",
      " ['1.7004576585974' '66.267508112786' '31']\n",
      " ['1.6591086215159' '61.751621901787' '29']]\n"
     ]
    }
   ],
   "source": [
    "import numpy as np\n",
    "import math                 #importing math lib\n",
    "from math import sqrt       #importing square root function from math lib\n",
    " \n",
    "\n",
    "def clean_data(line):\n",
    "    return line.replace('(', '').replace(')', '').replace(' ', '').strip().split(',')\n",
    "\n",
    "def fetch_data(filename):\n",
    "    with open(filename, 'r') as f:\n",
    "        input_data = f.readlines()\n",
    "        clean_input = list(map(clean_data, input_data))\n",
    "        f.close()\n",
    "    return clean_input\n",
    "\n",
    "\n",
    "def readFile(dataset_path):\n",
    "    input_data = fetch_data(dataset_path)\n",
    "    input_np = np.array(input_data)\n",
    "    return input_np\n",
    "\n",
    "training_data = './dataset/1a-training.txt'\n",
    "test_data = './dataset/1a-test.txt'\n",
    "large_120_data = './dataset/1c-data.txt'\n",
    "\n",
    "train_np = readFile(training_data)\n",
    "print(train_np)\n",
    "test_np = readFile(test_data)\n",
    "print(test_np)\n",
    "large_np = readFile(large_120_data)"
   ]
  },
  {
   "cell_type": "code",
   "execution_count": 4,
   "id": "b17a491b",
   "metadata": {},
   "outputs": [
    {
     "name": "stdout",
     "output_type": "stream",
     "text": [
      "Given Value :  1\n",
      "The Accuracys : 0.6428571428571429\n",
      "Given Value :  3\n",
      "The Accuracys : 0.6428571428571429\n",
      "Given Value :  7\n",
      "The Accuracys : 0.5714285714285714\n",
      "Given Value :  9\n",
      "The Accuracys : 0.5714285714285714\n",
      "Given Value :  11\n",
      "The Accuracys : 0.5714285714285714\n"
     ]
    }
   ],
   "source": [
    "#repeating prediction and validation performed in c using KNN when age data is removed\n",
    "def check(a):                 #defining check\n",
    "    vamsi = {'W':0,'M':0 }      #assign men and women as zero\n",
    "    for gvk in a:             \n",
    "        if gvk=='W':\n",
    "            vamsi['W'] += 1 \n",
    "        if gvk=='M':\n",
    "            vamsi['M'] += 1\n",
    "    return vamsi \n",
    "\n",
    "given = [1,3,7,9,11]      #generated training data for values of given of 1, 3, and 7.\n",
    "tz = len(train_np)\n",
    "for l in given:        #for l in given then\n",
    "    print(\"Given Value : \",l)    #print l value\n",
    "    g =  0            \n",
    "    for sign,trail in enumerate(train_np):\n",
    "        length = []                #declaring length                   \n",
    "        \n",
    "        ntz = np.concatenate((large_np[:sign],large_np[sign+1:]))    #concatenating large_np and storing to ntz\n",
    "        for railu in ntz:\n",
    "            q = np.array( [float(a) for a in railu[:3]])\n",
    "           \n",
    "            w = np.array( [float(a) for a in trail[:3]])\n",
    "             \n",
    "            e = sqrt(np.sum( (q-w)**2 ))   #Performing squareroot function and storing in e\n",
    "            length.append(e)      #appending e and calculating length of e\n",
    "        \n",
    "        \n",
    "        closet = np.argsort(length)        #argsorting length and closet         \n",
    "                                                \n",
    "        closey = [ ntz[a][3] for a in closet[:l]]\n",
    "        vamsi = check(closey)      #checking closey and storing to vamsi\n",
    "\n",
    "        if vamsi['W']<vamsi['M']:   #if vamsi of women greater than vamsi of men\n",
    "            o = 'M'                  #store o equal to women\n",
    "        else:\n",
    "            o = 'W'                 #else store men to o\n",
    "    \n",
    "        \n",
    "        g+=  1 if o == trail[3] else 0 \n",
    "    print('The Accuracys : {}'.format(g/tz))     #calculating accuracy and printing it\n",
    "    \n",
    "#results tells us the accuracy of given values between mens and womens age, height, weight in the result."
   ]
  }
 ],
 "metadata": {
  "kernelspec": {
   "display_name": "Python 3 (ipykernel)",
   "language": "python",
   "name": "python3"
  },
  "language_info": {
   "codemirror_mode": {
    "name": "ipython",
    "version": 3
   },
   "file_extension": ".py",
   "mimetype": "text/x-python",
   "name": "python",
   "nbconvert_exporter": "python",
   "pygments_lexer": "ipython3",
   "version": "3.10.7"
  }
 },
 "nbformat": 4,
 "nbformat_minor": 5
}
