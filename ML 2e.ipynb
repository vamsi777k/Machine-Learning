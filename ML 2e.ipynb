{
 "cells": [
  {
   "cell_type": "code",
   "execution_count": 1,
   "id": "ac1073e9",
   "metadata": {},
   "outputs": [],
   "source": [
    "#by comparing results of two classifiers 1d with 2d, we cant predict which performs better, because the input pattern which we used in similar to two classifires i.e., for 1d and 2d so the reuslts between these two classifiers are mostly similar. So, we cannot tell which performs best in this case. "
   ]
  }
 ],
 "metadata": {
  "kernelspec": {
   "display_name": "Python 3 (ipykernel)",
   "language": "python",
   "name": "python3"
  },
  "language_info": {
   "codemirror_mode": {
    "name": "ipython",
    "version": 3
   },
   "file_extension": ".py",
   "mimetype": "text/x-python",
   "name": "python",
   "nbconvert_exporter": "python",
   "pygments_lexer": "ipython3",
   "version": "3.10.7"
  }
 },
 "nbformat": 4,
 "nbformat_minor": 5
}
